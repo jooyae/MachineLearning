{
 "cells": [
  {
   "cell_type": "code",
   "execution_count": null,
   "metadata": {},
   "outputs": [],
   "source": [
    "from sklearn.model_selection import train_test_split\n",
    "from sklearn.datasets import make_moons\n",
    "from matplotlib import pyplot as plt\n",
    "import numpy as np\n",
    "from pandas import DataFrame\n",
    "\n",
    "X, y = make_moons(n_samples=500, noise=0.30, random_state=42)\n",
    "X_train, X_test, y_train, y_test = train_test_split(X, y, random_state=42)"
   ]
  },
  {
   "cell_type": "code",
   "execution_count": null,
   "metadata": {},
   "outputs": [],
   "source": [
    "from sklearn.ensemble import RandomForestClassifier\n",
    "from sklearn.metrics import accuracy_score\n",
    "\n",
    "rnd_clf_50 = RandomForestClassifier(n_estimators=50,max_leaf_nodes=16, random_state=42)\n",
    "rnd_clf_50.fit(X_train, y_train)\n",
    "\n",
    "y_pred_rf_50 = rnd_clf50.predict(X_test)\n",
    "\n",
    "print(\"tree 50 accuracy: \",accuracy_score(y_test,y_pred_rf_50))"
   ]
  },
  {
   "cell_type": "code",
   "execution_count": null,
   "metadata": {},
   "outputs": [],
   "source": [
    "rnd_clf_100 = RandomForestClassifier(n_estimators=100,max_leaf_nodes=16, random_state=42)\n",
    "rnd_clf_100.fit(X_train, y_train)\n",
    "\n",
    "y_pred_rf_100 = rnd_clf_100.predict(X_test)\n",
    "\n",
    "print(\"tree 100 accuracy: \", accuracy_score(y_test,y_pred_rf_100))"
   ]
  },
  {
   "cell_type": "code",
   "execution_count": null,
   "metadata": {},
   "outputs": [],
   "source": [
    "rnd_clf_200 = RandomForestClassifier(n_estimators=200,max_leaf_nodes=16, random_state=42)\n",
    "rnd_clf_200.fit(X_train, y_train)\n",
    "\n",
    "y_pred_rf_200 = rnd_clf_200.predict(X_test)\n",
    "\n",
    "print(\"tree 200 accuracy: \", accuracy_score(y_test,y_pred_rf_200))"
   ]
  }
 ],
 "metadata": {
  "kernelspec": {
   "display_name": "Python 3",
   "language": "python",
   "name": "python3"
  },
  "language_info": {
   "codemirror_mode": {
    "name": "ipython",
    "version": 3
   },
   "file_extension": ".py",
   "mimetype": "text/x-python",
   "name": "python",
   "nbconvert_exporter": "python",
   "pygments_lexer": "ipython3",
   "version": "3.7.0"
  }
 },
 "nbformat": 4,
 "nbformat_minor": 4
}
