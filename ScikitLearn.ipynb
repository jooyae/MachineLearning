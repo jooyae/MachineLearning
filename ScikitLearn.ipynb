{
 "cells": [
  {
   "cell_type": "code",
   "execution_count": null,
   "metadata": {},
   "outputs": [],
   "source": [
    "import pandas as pd\n",
    "import numpy as np\n",
    "import matplotlib.pyplot as plt\n",
    "from sklearn.linear_model import LogisticRegression\n",
    "\n",
    "df = pd.read_csv(\"data.csv\")\n",
    "df.head()"
   ]
  },
  {
   "cell_type": "code",
   "execution_count": null,
   "metadata": {},
   "outputs": [],
   "source": [
    "X = df[\"Class\"]\n",
    "y = df[\"Survival\"]\n",
    "\n",
    "log_reg = LogisticRegression()\n",
    "log_reg.fit(X.values.reshape(-1,1), y)"
   ]
  },
  {
   "cell_type": "code",
   "execution_count": null,
   "metadata": {},
   "outputs": [],
   "source": [
    "X_new = np.linspace(0, 3, 100).reshape(-1, 1)\n",
    "y_proba = log_reg.predict_proba(X_new)\n",
    "\n",
    "decision_boundary = X_new[y_proba[:,1]<=0.5][0]\n",
    "\n",
    "plt.plot(X_new, y_proba[:, 1], \"g-\", linewidth=2, label=\"survived\")\n",
    "plt.plot(X_new, y_proba[:, 0], \"b-\", linewidth=2, label=\"death\")\n",
    "plt.plot([decision_boundary, decision_boundary], [0,1], 'r:', label=\"decision boundary\")\n",
    "plt.xlabel('class')\n",
    "plt.ylabel('probability')\n",
    "plt.legend(loc='center left')\n",
    "plt.show()"
   ]
  },
  {
   "cell_type": "code",
   "execution_count": null,
   "metadata": {
    "scrolled": true
   },
   "outputs": [],
   "source": [
    "X = df[\"Gender\"]\n",
    "y = df[\"Survival\"]\n",
    "\n",
    "log_reg = LogisticRegression()\n",
    "log_reg.fit(X.values.reshape(-1,1), y)\n",
    "\n",
    "X_new = np.linspace(0, 1, 1000).reshape(-1, 1)\n",
    "y_proba = log_reg.predict_proba(X_new)\n",
    "\n",
    "decision_boundary = X_new[y_proba[:,1]<=0.5][0]\n",
    "\n",
    "plt.plot(X_new, y_proba[:, 1], \"g-\", linewidth=2, label=\"survived\")\n",
    "plt.plot(X_new, y_proba[:, 0], \"b-\", linewidth=2, label=\"death\")\n",
    "plt.plot([decision_boundary, decision_boundary], [0,1], 'r:', label=\"decision boundary\")\n",
    "plt.xlabel('gender')\n",
    "plt.ylabel('probability')\n",
    "plt.legend(loc='upper right')\n",
    "plt.show()"
   ]
  },
  {
   "cell_type": "code",
   "execution_count": null,
   "metadata": {},
   "outputs": [],
   "source": [
    "X = df[\"Age\"]\n",
    "y = df[\"Survival\"]\n",
    "\n",
    "log_reg = LogisticRegression()\n",
    "log_reg.fit(X.values.reshape(-1,1), y)\n",
    "\n",
    "X_new = np.linspace(0, 100, 1000).reshape(-1, 1)\n",
    "y_proba = log_reg.predict_proba(X_new)\n",
    "\n",
    "decision_boundary = X_new[y_proba[:,1]<=0.5][0]\n",
    "\n",
    "plt.plot(X_new, y_proba[:, 1], \"g-\", linewidth=2, label=\"survived\")\n",
    "plt.plot(X_new, y_proba[:, 0], \"b-\", linewidth=2, label=\"death\")\n",
    "plt.plot([decision_boundary, decision_boundary], [0,1], 'r:', label=\"decision boundary\")\n",
    "plt.xlabel('age')\n",
    "plt.ylabel('probability')\n",
    "plt.legend(loc='center right')\n",
    "plt.show()"
   ]
  }
 ],
 "metadata": {
  "kernelspec": {
   "display_name": "Python 3",
   "language": "python",
   "name": "python3"
  },
  "language_info": {
   "codemirror_mode": {
    "name": "ipython",
    "version": 3
   },
   "file_extension": ".py",
   "mimetype": "text/x-python",
   "name": "python",
   "nbconvert_exporter": "python",
   "pygments_lexer": "ipython3",
   "version": "3.7.0"
  }
 },
 "nbformat": 4,
 "nbformat_minor": 4
}
