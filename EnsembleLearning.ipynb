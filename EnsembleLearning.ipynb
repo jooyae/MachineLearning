{
 "cells": [
  {
   "cell_type": "code",
   "execution_count": 28,
   "metadata": {},
   "outputs": [],
   "source": [
    "from sklearn.datasets import make_moons\n",
    "from sklearn.ensemble import RandomForestClassifier \n",
    "from sklearn.ensemble import VotingClassifier\n",
    "from sklearn.linear_model import LogisticRegression\n",
    "from sklearn.svm import SVC \n",
    "from sklearn.model_selection import train_test_split\n",
    "from sklearn.metrics import accuracy_score \n",
    "\n",
    "X,y = make_moons(n_samples =500, noise = 0.2, random_state = 42)\n",
    "\n",
    "x_train,x_test,y_train,y_test = train_test_split(X,y,stratify =y,random_state =42)"
   ]
  },
  {
   "cell_type": "code",
   "execution_count": 29,
   "metadata": {},
   "outputs": [
    {
     "name": "stdout",
     "output_type": "stream",
     "text": [
      "LogisticRegression 0.856\n",
      "RandomForestClassifier 0.976\n",
      "SVC 0.976\n",
      "VotingClassifier 0.968\n"
     ]
    }
   ],
   "source": [
    "#랜덤포레스트 트리50일때\n",
    "log_clf = LogisticRegression(solver='liblinear',random_state=42)\n",
    "rnd_clf = RandomForestClassifier(n_estimators=50,random_state=42) \n",
    "svm_clf = SVC(gamma='auto',random_state=42)\n",
    "#직접투표분류기\n",
    "voting_clf = VotingClassifier(\n",
    "                estimators = [('lr',log_clf),('rf',rnd_clf),('svc',svm_clf)],\n",
    "                voting='hard')\n",
    "voting_clf.fit(x_train, y_train)\n",
    "\n",
    "for clf in (log_clf, rnd_clf, svm_clf, voting_clf):\n",
    "    clf.fit(x_train,y_train)\n",
    "    y_pred = clf.predict(x_test)\n",
    "    print(clf.__class__.__name__, accuracy_score(y_test, y_pred))"
   ]
  },
  {
   "cell_type": "code",
   "execution_count": 30,
   "metadata": {},
   "outputs": [
    {
     "name": "stdout",
     "output_type": "stream",
     "text": [
      "LogisticRegression 0.856\n",
      "RandomForestClassifier 0.976\n",
      "SVC 0.976\n",
      "VotingClassifier 0.976\n"
     ]
    }
   ],
   "source": [
    "log_clf = LogisticRegression(solver='liblinear',random_state=42)\n",
    "rnd_clf = RandomForestClassifier(n_estimators=50,random_state=42)\n",
    "svm_clf = SVC(gamma='auto',probability=True,random_state =42)\n",
    "\n",
    "#간접투표분류기\n",
    "voting_clf = VotingClassifier(\n",
    "                estimators = [('lr',log_clf),('rf',rnd_clf),('svc',svm_clf)],\n",
    "                voting='soft')\n",
    "voting_clf.fit(x_train, y_train)\n",
    "\n",
    "for clf in (log_clf, rnd_clf, svm_clf, voting_clf):\n",
    "    clf.fit(x_train,y_train)\n",
    "    y_pred = clf.predict(x_test)\n",
    "    print(clf.__class__.__name__, accuracy_score(y_test, y_pred))"
   ]
  },
  {
   "cell_type": "code",
   "execution_count": 32,
   "metadata": {},
   "outputs": [
    {
     "name": "stdout",
     "output_type": "stream",
     "text": [
      "LogisticRegression 0.856\n",
      "RandomForestClassifier 0.976\n",
      "SVC 0.976\n",
      "VotingClassifier 0.968\n"
     ]
    }
   ],
   "source": [
    "#랜덤포레스트 트리100일때\n",
    "log_clf = LogisticRegression(solver='liblinear',random_state=42)\n",
    "rnd_clf = RandomForestClassifier(n_estimators=100,random_state=42) \n",
    "svm_clf = SVC(gamma='auto',random_state=42)\n",
    "#직접투표분류기\n",
    "voting_clf = VotingClassifier(\n",
    "                estimators = [('lr',log_clf),('rf',rnd_clf),('svc',svm_clf)],\n",
    "                voting='hard')\n",
    "voting_clf.fit(x_train, y_train)\n",
    "\n",
    "for clf in (log_clf, rnd_clf, svm_clf, voting_clf):\n",
    "    clf.fit(x_train,y_train)\n",
    "    y_pred = clf.predict(x_test)\n",
    "    print(clf.__class__.__name__, accuracy_score(y_test, y_pred))"
   ]
  },
  {
   "cell_type": "code",
   "execution_count": 39,
   "metadata": {},
   "outputs": [
    {
     "name": "stdout",
     "output_type": "stream",
     "text": [
      "LogisticRegression 0.856\n",
      "RandomForestClassifier 0.976\n",
      "SVC 0.976\n",
      "VotingClassifier 0.976\n"
     ]
    }
   ],
   "source": [
    "log_clf = LogisticRegression(solver='liblinear',random_state=42)\n",
    "rnd_clf = RandomForestClassifier(n_estimators=100,random_state=42)\n",
    "svm_clf = SVC(gamma='auto',probability=True,random_state =42)\n",
    "\n",
    "#간접투표분류기\n",
    "voting_clf = VotingClassifier(\n",
    "                estimators = [('lr',log_clf),('rf',rnd_clf),('svc',svm_clf)],\n",
    "                voting='soft')\n",
    "voting_clf.fit(x_train, y_train)\n",
    "\n",
    "for clf in (log_clf, rnd_clf, svm_clf, voting_clf):\n",
    "    clf.fit(x_train,y_train)\n",
    "    y_pred = clf.predict(x_test)\n",
    "    print(clf.__class__.__name__, accuracy_score(y_test, y_pred))"
   ]
  },
  {
   "cell_type": "code",
   "execution_count": 37,
   "metadata": {},
   "outputs": [
    {
     "name": "stdout",
     "output_type": "stream",
     "text": [
      "LogisticRegression 0.856\n",
      "RandomForestClassifier 0.968\n",
      "SVC 0.976\n",
      "VotingClassifier 0.968\n"
     ]
    }
   ],
   "source": [
    "#랜덤포레스트 트리200일때\n",
    "log_clf = LogisticRegression(solver='liblinear',random_state=42)\n",
    "rnd_clf = RandomForestClassifier(n_estimators=200,random_state=42) \n",
    "svm_clf = SVC(gamma='auto',random_state=42)\n",
    "#직접투표분류기\n",
    "voting_clf = VotingClassifier(\n",
    "                estimators = [('lr',log_clf),('rf',rnd_clf),('svc',svm_clf)],\n",
    "                voting='hard')\n",
    "voting_clf.fit(x_train, y_train)\n",
    "\n",
    "for clf in (log_clf, rnd_clf, svm_clf, voting_clf):\n",
    "    clf.fit(x_train,y_train)\n",
    "    y_pred = clf.predict(x_test)\n",
    "    print(clf.__class__.__name__, accuracy_score(y_test, y_pred))"
   ]
  },
  {
   "cell_type": "code",
   "execution_count": 38,
   "metadata": {},
   "outputs": [
    {
     "name": "stdout",
     "output_type": "stream",
     "text": [
      "LogisticRegression 0.856\n",
      "RandomForestClassifier 0.968\n",
      "SVC 0.976\n",
      "VotingClassifier 0.976\n"
     ]
    }
   ],
   "source": [
    "log_clf = LogisticRegression(solver='liblinear',random_state=42)\n",
    "rnd_clf = RandomForestClassifier(n_estimators=200,random_state=42)\n",
    "svm_clf = SVC(gamma='auto',probability=True,random_state =42)\n",
    "\n",
    "#간접투표분류기\n",
    "voting_clf = VotingClassifier(\n",
    "                estimators = [('lr',log_clf),('rf',rnd_clf),('svc',svm_clf)],\n",
    "                voting='soft')\n",
    "voting_clf.fit(x_train, y_train)\n",
    "\n",
    "for clf in (log_clf, rnd_clf, svm_clf, voting_clf):\n",
    "    clf.fit(x_train,y_train)\n",
    "    y_pred = clf.predict(x_test)\n",
    "    print(clf.__class__.__name__, accuracy_score(y_test, y_pred))"
   ]
  },
  {
   "cell_type": "code",
   "execution_count": null,
   "metadata": {},
   "outputs": [],
   "source": []
  }
 ],
 "metadata": {
  "kernelspec": {
   "display_name": "Python 3",
   "language": "python",
   "name": "python3"
  },
  "language_info": {
   "codemirror_mode": {
    "name": "ipython",
    "version": 3
   },
   "file_extension": ".py",
   "mimetype": "text/x-python",
   "name": "python",
   "nbconvert_exporter": "python",
   "pygments_lexer": "ipython3",
   "version": "3.7.9"
  }
 },
 "nbformat": 4,
 "nbformat_minor": 4
}
